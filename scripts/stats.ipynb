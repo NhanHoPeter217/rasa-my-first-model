{
  "cells": [
    {
      "cell_type": "code",
      "execution_count": null,
      "metadata": {},
      "outputs": [],
      "source": [
        "import glob\n",
        "import yaml\n",
        "import pandas as pd\n",
        "import matplotlib.pyplot as plt\n",
        "import requests\n",
        "import csv\n",
        "import io"
      ]
    },
    {
      "cell_type": "code",
      "execution_count": null,
      "metadata": {},
      "outputs": [],
      "source": [
        "mapCSVURL = 'https://docs.google.com/spreadsheets/d/e/2PACX-1vSAWBkVy4eZ0k04ZKEwppDMvCHNlDIxoZXn1H8puT4xqrw-ui4y-rnFRgBaImR7bBg6XGaVul1X279U/pub?gid=1274123795&single=true&output=csv'\n",
        "\n",
        "def fetchDataCSVFromURL(url):\n",
        "  response = requests.get(url)\n",
        "  data = response.content.decode('utf-8')\n",
        "  dataFile = io.StringIO(data)\n",
        "  reader = csv.reader(dataFile)\n",
        "  return [row for row in reader]\n",
        "\n",
        "data = fetchDataCSVFromURL(mapCSVURL)\n",
        "print(data)\n",
        "\n",
        "def get_vietnamese_translation(intent: str) -> str:\n",
        "  for row in data:\n",
        "    if row[1] == intent:\n",
        "      return row[0]\n",
        "\n",
        "  print('Not found', intent)\n",
        "  return intent"
      ]
    },
    {
      "cell_type": "code",
      "execution_count": null,
      "metadata": {},
      "outputs": [],
      "source": [
        "def addlabels(x,y):\n",
        "    for i in range(len(x)):\n",
        "        plt.text(i, y[i] + 2, y[i], ha = 'center', rotation=90)"
      ]
    },
    {
      "cell_type": "code",
      "execution_count": null,
      "metadata": {},
      "outputs": [],
      "source": [
        "\n",
        "# Define the path to the NLU YAML files\n",
        "nlu_files_path = \"../data/*.yml\"\n",
        "\n",
        "# Initialize an empty dictionary to store the intent examples count\n",
        "intent_examples_count = {}\n",
        "\n",
        "print(glob.glob(nlu_files_path))\n",
        "\n",
        "# Iterate over each NLU YAML file\n",
        "for file_path in glob.glob(nlu_files_path):\n",
        "  with open(file_path, 'r') as file:\n",
        "    nlu_data = yaml.safe_load(file)\n",
        "    for intent in nlu_data['nlu']:\n",
        "      try:\n",
        "        intent_name = intent['intent']\n",
        "        if (intent_name == 'greet' or intent_name == 'thanks'):\n",
        "          continue\n",
        "        examples_count = len(intent['examples'].split('\\n'))\n",
        "        if intent_name in intent_examples_count:\n",
        "          intent_examples_count[intent_name] += examples_count\n",
        "        else:\n",
        "          intent_examples_count[intent_name] = examples_count\n",
        "\n",
        "      except KeyError:\n",
        "        pass"
      ]
    },
    {
      "cell_type": "code",
      "execution_count": null,
      "metadata": {},
      "outputs": [],
      "source": [
        "# Convert the intent examples count dictionary to a pandas DataFrame\n",
        "df = pd.DataFrame.from_dict(intent_examples_count, orient='index', columns=['Example Count'])\n",
        "df['intent_vietnamese'] = ''\n",
        "\n",
        "for index, row in df.iterrows():\n",
        "  intent_name = index\n",
        "  intent_vietnamese = get_vietnamese_translation(intent_name)  # Replace with your translation function\n",
        "  df.at[index, 'intent_vietnamese'] = intent_vietnamese"
      ]
    },
    {
      "cell_type": "code",
      "execution_count": null,
      "metadata": {},
      "outputs": [],
      "source": [
        "\n",
        "# Plot the example quantity of each intent\n",
        "df.plot(x='intent_vietnamese', y='Example Count', kind='bar', figsize=(30, 6))\n",
        "plt.xlabel('Intent')\n",
        "plt.yticks(rotation=90)\n",
        "plt.title(f'Example Quantity of Each Intent (Total examples: {df[\"Example Count\"].sum()})')\n",
        "\n",
        "addlabels(df.index, df['Example Count'])\n",
        "\n",
        "\n",
        "plt.show()"
      ]
    }
  ],
  "metadata": {
    "kernelspec": {
      "display_name": "rasa_env",
      "language": "python",
      "name": "python3"
    },
    "language_info": {
      "codemirror_mode": {
        "name": "ipython",
        "version": 3
      },
      "file_extension": ".py",
      "mimetype": "text/x-python",
      "name": "python",
      "nbconvert_exporter": "python",
      "pygments_lexer": "ipython3",
      "version": "3.10.12"
    }
  },
  "nbformat": 4,
  "nbformat_minor": 2
}
