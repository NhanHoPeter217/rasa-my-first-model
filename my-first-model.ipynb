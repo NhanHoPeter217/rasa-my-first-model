{
  "cells": [
    {
      "cell_type": "markdown",
      "metadata": {},
      "source": [
        "# Multiple configs"
      ]
    },
    {
      "cell_type": "code",
      "execution_count": null,
      "metadata": {
        "id": "iIeXW9fnSbvA",
        "vscode": {
          "languageId": "shellscript"
        }
      },
      "outputs": [],
      "source": [
        "!rasa data split nlu"
      ]
    },
    {
      "cell_type": "markdown",
      "metadata": {
        "id": "QTSMNxcHu_jC"
      },
      "source": [
        "### Hue University Config"
      ]
    },
    {
      "cell_type": "code",
      "execution_count": null,
      "metadata": {
        "id": "2mXW6SXuwtjO"
      },
      "outputs": [],
      "source": [
        "import os\n",
        "os.environ['TF_FORCE_GPU_ALLOW_GROWTH'] = 'false'\n",
        "os.environ['OUTPATH'] = 'results_hue'"
      ]
    },
    {
      "cell_type": "markdown",
      "metadata": {},
      "source": [
        "**training**"
      ]
    },
    {
      "cell_type": "code",
      "execution_count": null,
      "metadata": {
        "id": "vbGOb8KK_a7U",
        "vscode": {
          "languageId": "shellscript"
        }
      },
      "outputs": [],
      "source": [
        "!rasa train -c configs/config_hue.yml --data train_test_split/training_data.yml data_rules_stories --out $OUTPATH --force"
      ]
    },
    {
      "cell_type": "markdown",
      "metadata": {},
      "source": [
        "**testing**"
      ]
    },
    {
      "cell_type": "code",
      "execution_count": null,
      "metadata": {
        "id": "sHJ-4JlvFQHQ",
        "vscode": {
          "languageId": "shellscript"
        }
      },
      "outputs": [],
      "source": [
        "!rasa test -c configs/config_hue.yml --nlu train_test_split/test_data.yml --out $OUTPATH --model $OUTPATH"
      ]
    },
    {
      "cell_type": "markdown",
      "metadata": {
        "id": "e3O3EhBQmUTe"
      },
      "source": [
        "### Nam Config"
      ]
    },
    {
      "cell_type": "code",
      "execution_count": null,
      "metadata": {
        "id": "NGEPQxjYmpdx"
      },
      "outputs": [],
      "source": [
        "os.environ['OUTPATH'] = 'results_nam2'"
      ]
    },
    {
      "cell_type": "markdown",
      "metadata": {},
      "source": [
        "**training**"
      ]
    },
    {
      "cell_type": "code",
      "execution_count": null,
      "metadata": {
        "colab": {
          "base_uri": "https://localhost:8080/"
        },
        "id": "au6T9v6OmTXu",
        "outputId": "6e40382f-2f86-4349-9145-ab11968d4a6e",
        "vscode": {
          "languageId": "shellscript"
        }
      },
      "outputs": [],
      "source": [
        "!rasa train nlu -c config_nam.yml --nlu train_test_split/training_data.yml --out $OUTPATH\n",
        "!rasa test nlu -c config_nam.yml --nlu train_test_split/test_data.yml --out $OUTPATH --model $OUTPATH"
      ]
    },
    {
      "cell_type": "markdown",
      "metadata": {},
      "source": [
        "**testing**"
      ]
    },
    {
      "cell_type": "code",
      "execution_count": null,
      "metadata": {
        "vscode": {
          "languageId": "shellscript"
        }
      },
      "outputs": [],
      "source": [
        "!rasa test nlu --nlu data/ --config config_nam.yml configs/config_hue.yml"
      ]
    },
    {
      "cell_type": "markdown",
      "metadata": {},
      "source": [
        "# Train full data & start server"
      ]
    },
    {
      "cell_type": "code",
      "execution_count": null,
      "metadata": {
        "vscode": {
          "languageId": "shellscript"
        }
      },
      "outputs": [],
      "source": [
        "!rasa train -c configs/config_hue.yml --data data data_rules_stories"
      ]
    },
    {
      "cell_type": "code",
      "execution_count": null,
      "metadata": {
        "vscode": {
          "languageId": "shellscript"
        }
      },
      "outputs": [],
      "source": [
        "!rasa run --credentials credentials.yml"
      ]
    }
  ],
  "metadata": {
    "accelerator": "GPU",
    "colab": {
      "gpuType": "T4",
      "provenance": []
    },
    "kernelspec": {
      "display_name": "Python 3",
      "name": "python3"
    },
    "language_info": {
      "codemirror_mode": {
        "name": "ipython",
        "version": 3
      },
      "file_extension": ".py",
      "mimetype": "text/x-python",
      "name": "python",
      "nbconvert_exporter": "python",
      "pygments_lexer": "ipython3",
      "version": "3.9.19"
    }
  },
  "nbformat": 4,
  "nbformat_minor": 0
}
