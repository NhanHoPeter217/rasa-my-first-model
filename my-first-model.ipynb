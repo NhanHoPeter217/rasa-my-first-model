{
  "cells": [
    {
      "cell_type": "markdown",
      "metadata": {},
      "source": [
        "# Multiple configs"
      ]
    },
    {
      "cell_type": "code",
      "execution_count": null,
      "metadata": {
        "id": "iIeXW9fnSbvA",
        "vscode": {
          "languageId": "shellscript"
        }
      },
      "outputs": [],
      "source": [
        "!rasa data split nlu"
      ]
    },
    {
      "cell_type": "markdown",
      "metadata": {},
      "source": [
        "# Testing multiple configs"
      ]
    },
    {
      "cell_type": "code",
      "execution_count": null,
      "metadata": {
        "vscode": {
          "languageId": "shellscript"
        }
      },
      "outputs": [],
      "source": [
        "# Chưa chạy được do VNCoreNLP bị lỗi\n",
        "!rasa test nlu --nlu data --config configs"
      ]
    },
    {
      "cell_type": "markdown",
      "metadata": {},
      "source": [
        "# Train test each config\n",
        "> bấm chạy hết mấy cái bên dưới"
      ]
    },
    {
      "cell_type": "code",
      "execution_count": null,
      "metadata": {
        "vscode": {
          "languageId": "shellscript"
        }
      },
      "outputs": [],
      "source": [
        "!rasa data split nlu"
      ]
    },
    {
      "cell_type": "code",
      "execution_count": null,
      "metadata": {
        "vscode": {
          "languageId": "shellscript"
        }
      },
      "outputs": [],
      "source": [
        "!rasa train nlu -c configs/config_nam.yml --nlu train_test_split/training_data.yml --out models/config_nam\n",
        "!rasa test nlu --nlu train_test_split/test_data.yml -c configs/config_nam.yml --model models/config_nam --out results/result_config_nam"
      ]
    },
    {
      "cell_type": "code",
      "execution_count": null,
      "metadata": {
        "vscode": {
          "languageId": "shellscript"
        }
      },
      "outputs": [],
      "source": [
        "!rasa train nlu -c configs/config_hue.yml --nlu train_test_split/training_data.yml --out models/config_hue\n",
        "!rasa test nlu --nlu train_test_split/test_data.yml -c configs/config_hue.yml --model models/config_hue --out results/result_config_hue"
      ]
    },
    {
      "cell_type": "code",
      "execution_count": null,
      "metadata": {
        "vscode": {
          "languageId": "shellscript"
        }
      },
      "outputs": [],
      "source": [
        "!rasa train nlu -c configs/config_vncorenlp.yml --nlu train_test_split/training_data.yml --out models/config_vncorenlp\n",
        "!rasa test nlu --nlu train_test_split/test_data.yml -c configs/config_vncorenlp.yml --model models/config_vncorenlp --out results/result_config_vncorenlp"
      ]
    },
    {
      "cell_type": "code",
      "execution_count": null,
      "metadata": {
        "vscode": {
          "languageId": "shellscript"
        }
      },
      "outputs": [],
      "source": [
        "!rasa train nlu -c configs/config_default.yml --nlu train_test_split/training_data.yml --out models/config_default\n",
        "!rasa test nlu --nlu train_test_split/test_data.yml -c configs/config_default.yml --model models/config_default --out results/result_config_default"
      ]
    }
  ],
  "metadata": {
    "accelerator": "GPU",
    "colab": {
      "gpuType": "T4",
      "provenance": []
    },
    "kernelspec": {
      "display_name": "Python 3",
      "name": "python3"
    },
    "language_info": {
      "codemirror_mode": {
        "name": "ipython",
        "version": 3
      },
      "file_extension": ".py",
      "mimetype": "text/x-python",
      "name": "python",
      "nbconvert_exporter": "python",
      "pygments_lexer": "ipython3",
      "version": "3.10.12"
    }
  },
  "nbformat": 4,
  "nbformat_minor": 0
}
